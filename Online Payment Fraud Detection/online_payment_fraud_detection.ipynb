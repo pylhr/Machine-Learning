{
 "cells": [
  {
   "cell_type": "code",
   "execution_count": 33,
   "id": "123a40e7",
   "metadata": {
    "colab": {
     "base_uri": "https://localhost:8080/"
    },
    "id": "123a40e7",
    "outputId": "260e014a-92a8-48ab-d150-f1fa750a33ee"
   },
   "outputs": [
    {
     "name": "stdout",
     "output_type": "stream",
     "text": [
      "Requirement already satisfied: pandas in c:\\users\\hp\\anaconda3\\lib\\site-packages (1.5.3)\n",
      "Requirement already satisfied: python-dateutil>=2.8.1 in c:\\users\\hp\\anaconda3\\lib\\site-packages (from pandas) (2.8.2)\n",
      "Requirement already satisfied: numpy>=1.21.0 in c:\\users\\hp\\anaconda3\\lib\\site-packages (from pandas) (1.23.5)\n",
      "Requirement already satisfied: pytz>=2020.1 in c:\\users\\hp\\anaconda3\\lib\\site-packages (from pandas) (2022.7)\n",
      "Requirement already satisfied: six>=1.5 in c:\\users\\hp\\anaconda3\\lib\\site-packages (from python-dateutil>=2.8.1->pandas) (1.16.0)\n",
      "Note: you may need to restart the kernel to use updated packages.\n"
     ]
    }
   ],
   "source": [
    "pip install pandas\n"
   ]
  },
  {
   "cell_type": "code",
   "execution_count": 34,
   "id": "575f9786",
   "metadata": {
    "id": "575f9786"
   },
   "outputs": [],
   "source": [
    "import pandas as pd"
   ]
  },
  {
   "cell_type": "code",
   "execution_count": null,
   "id": "9b480cec",
   "metadata": {
    "id": "9b480cec"
   },
   "outputs": [],
   "source": [
    "data = pd.read_csv('dataset/fraud_data.csv')"
   ]
  },
  {
   "cell_type": "code",
   "execution_count": null,
   "id": "13eb0fef",
   "metadata": {
    "colab": {
     "base_uri": "https://localhost:8080/",
     "height": 206
    },
    "id": "13eb0fef",
    "outputId": "a7500ccd-af2c-4934-e913-3324d1e6ee29"
   },
   "outputs": [],
   "source": [
    "data.head()"
   ]
  },
  {
   "cell_type": "code",
   "execution_count": null,
   "id": "3d7ee227",
   "metadata": {
    "id": "3d7ee227"
   },
   "outputs": [],
   "source": [
    "import numpy as np"
   ]
  },
  {
   "cell_type": "code",
   "execution_count": null,
   "id": "6454d2f7",
   "metadata": {
    "colab": {
     "base_uri": "https://localhost:8080/"
    },
    "id": "6454d2f7",
    "outputId": "9608db79-bb27-4817-cea2-0b144bd2be75"
   },
   "outputs": [],
   "source": [
    "print(data.isnull().sum())"
   ]
  },
  {
   "cell_type": "code",
   "execution_count": null,
   "id": "bdb24139",
   "metadata": {
    "colab": {
     "base_uri": "https://localhost:8080/"
    },
    "id": "bdb24139",
    "outputId": "65d7e7e6-75e8-4bce-a2d8-350cf0898c3b"
   },
   "outputs": [],
   "source": [
    "#Exploring the magnitude of individual transaction types\n",
    "print(data.type.value_counts())"
   ]
  },
  {
   "cell_type": "code",
   "execution_count": null,
   "id": "5d2dea01",
   "metadata": {
    "colab": {
     "base_uri": "https://localhost:8080/",
     "height": 542
    },
    "id": "5d2dea01",
    "outputId": "fb7ac94d-7e25-44c9-edb5-45fe80b968f8"
   },
   "outputs": [],
   "source": [
    "#Visualizing the distribution of transaction types that we explored above\n",
    "type = data['type'].value_counts()\n",
    "transactions = type.index\n",
    "quantity = type.values\n",
    "\n",
    "import plotly.express as px\n",
    "figure = px.pie(data, values = quantity, names = transactions, hole = 0.5, title = 'Distributon Of Transaction types')\n",
    "figure.show()"
   ]
  },
  {
   "cell_type": "code",
   "execution_count": null,
   "id": "EgNBcYubXO7K",
   "metadata": {
    "colab": {
     "base_uri": "https://localhost:8080/"
    },
    "id": "EgNBcYubXO7K",
    "outputId": "bce2a066-8887-4514-fcc9-428fd80bfc81"
   },
   "outputs": [],
   "source": [
    "# Find rows where 'isFraud' column has NaN values\n",
    "rows_with_nan = data[data['isFraud'].isna()]\n",
    "\n",
    "# Print rows with NaN values\n",
    "print(rows_with_nan)"
   ]
  },
  {
   "cell_type": "code",
   "execution_count": null,
   "id": "IDLgEwZXXqeF",
   "metadata": {
    "id": "IDLgEwZXXqeF"
   },
   "outputs": [],
   "source": [
    "# Remove rows where any column contains NaN values\n",
    "data.dropna(how='any', inplace=True)\n"
   ]
  },
  {
   "cell_type": "code",
   "execution_count": null,
   "id": "MZY0sShcXszY",
   "metadata": {
    "colab": {
     "base_uri": "https://localhost:8080/"
    },
    "id": "MZY0sShcXszY",
    "outputId": "783ad3d3-8483-4401-ba8a-478c45e8fc48"
   },
   "outputs": [],
   "source": [
    "# Find rows where 'isFraud' column has NaN values\n",
    "rows_with_nan = data[data['isFraud'].isna()]\n",
    "\n",
    "# Print rows with NaN values\n",
    "print(rows_with_nan)"
   ]
  },
  {
   "cell_type": "code",
   "execution_count": null,
   "id": "d3674754",
   "metadata": {
    "colab": {
     "base_uri": "https://localhost:8080/"
    },
    "id": "d3674754",
    "outputId": "23e08ac2-6ecc-4b7c-9c39-b347aa12dea6"
   },
   "outputs": [],
   "source": [
    "#Checking the correlation\n",
    "correlation_data = data.corr()\n",
    "print(correlation_data['isFraud'].sort_values(ascending = False))"
   ]
  },
  {
   "cell_type": "code",
   "execution_count": null,
   "id": "234cc4ce",
   "metadata": {
    "colab": {
     "base_uri": "https://localhost:8080/"
    },
    "id": "234cc4ce",
    "outputId": "a3a3dddd-d77a-435f-bc5a-430a67798667"
   },
   "outputs": [],
   "source": [
    "#Transforming categorical feautres into numerical\n",
    "data['type'] = data['type'].map({'CASH_OUT' : 1, 'PAYMENT' : 2, 'CASH_IN' : 3, 'TRANSFER' : 4, 'DEBIT' : 5})\n",
    "data['isFraud'] = data['isFraud'].map({0:'No Fraud', 1:'Fraud'})\n",
    "print(data.head())"
   ]
  },
  {
   "cell_type": "code",
   "execution_count": null,
   "id": "5ta5Ja03mqS5",
   "metadata": {
    "id": "5ta5Ja03mqS5"
   },
   "outputs": [],
   "source": [
    "#Training a classification model\n",
    "from sklearn.model_selection import train_test_split\n",
    "\n",
    "x= np.array(data[['type', 'amount', 'oldbalanceOrg', 'newbalanceOrig']])\n",
    "\n",
    "y = np.array(data[['isFraud']])\n",
    "\n"
   ]
  },
  {
   "cell_type": "code",
   "execution_count": null,
   "id": "CKUYj5OWnFq1",
   "metadata": {
    "colab": {
     "base_uri": "https://localhost:8080/"
    },
    "id": "CKUYj5OWnFq1",
    "outputId": "833db943-ac5e-42aa-a12f-1bf07f6aaefc"
   },
   "outputs": [],
   "source": [
    "#Training the model\n",
    "from sklearn.tree import DecisionTreeClassifier\n",
    "X_train, x_test, Y_train, y_test = train_test_split(x, y, test_size= 0.10, random_state = 42)\n",
    "model = DecisionTreeClassifier()\n",
    "model.fit(X_train, Y_train)\n",
    "print(model.score(x_test, y_test))"
   ]
  },
  {
   "cell_type": "code",
   "execution_count": null,
   "id": "uAOMfs0-n53D",
   "metadata": {
    "colab": {
     "base_uri": "https://localhost:8080/"
    },
    "id": "uAOMfs0-n53D",
    "outputId": "27857cbb-a2b1-49d1-bf8f-8d40a22acbea"
   },
   "outputs": [],
   "source": [
    "# prediction based upon our model trained\n",
    "#template of features = [type, amount, oldbalanceOrg, newbalanceOrig]\n",
    "features = np.array([[0, 9000.00, 12000.00, 3000.0]])\n",
    "print(model.predict(features))"
   ]
  },
  {
   "cell_type": "raw",
   "id": "0615c49c",
   "metadata": {
    "id": "PcHX1Znnq2Jk"
   },
   "source": []
  }
 ],
 "metadata": {
  "colab": {
   "provenance": []
  },
  "kernelspec": {
   "display_name": "Python 3 (ipykernel)",
   "language": "python",
   "name": "python3"
  },
  "language_info": {
   "codemirror_mode": {
    "name": "ipython",
    "version": 3
   },
   "file_extension": ".py",
   "mimetype": "text/x-python",
   "name": "python",
   "nbconvert_exporter": "python",
   "pygments_lexer": "ipython3",
   "version": "3.10.9"
  }
 },
 "nbformat": 4,
 "nbformat_minor": 5
}
